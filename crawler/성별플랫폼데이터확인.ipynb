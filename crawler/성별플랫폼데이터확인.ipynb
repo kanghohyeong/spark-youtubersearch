{
 "metadata": {
  "language_info": {
   "codemirror_mode": {
    "name": "ipython",
    "version": 3
   },
   "file_extension": ".py",
   "mimetype": "text/x-python",
   "name": "python",
   "nbconvert_exporter": "python",
   "pygments_lexer": "ipython3",
   "version": "3.8.5-final"
  },
  "orig_nbformat": 2,
  "kernelspec": {
   "name": "scrapingenv1",
   "display_name": "scrapingEnv1",
   "language": "python"
  }
 },
 "nbformat": 4,
 "nbformat_minor": 2,
 "cells": [
  {
   "source": [
    "# 데이터 확인"
   ],
   "cell_type": "markdown",
   "metadata": {}
  },
  {
   "cell_type": "code",
   "execution_count": 4,
   "metadata": {},
   "outputs": [
    {
     "output_type": "stream",
     "name": "stdout",
     "text": [
      "male 197, female 63, afreeca 90, twitch 226, kakao 3, total 576\n"
     ]
    }
   ],
   "source": [
    "import json\n",
    "\n",
    "with open('./youtuber_sex_platform.json', 'rt', encoding='utf-8') as f:\n",
    "    json_data = json.load(f)\n",
    "\n",
    "male = 0\n",
    "female = 0\n",
    "afreeca = 0\n",
    "twitch = 0\n",
    "kakao = 0\n",
    "total = 0\n",
    "\n",
    "for i, channel in enumerate(json_data['channels']):\n",
    "    if channel['sex'] == '남성':\n",
    "        male += 1\n",
    "    elif channel['sex'] == '여성':\n",
    "        female += 1\n",
    "    for platform in channel['live_platform']:\n",
    "        if platform == '아프리카TV':\n",
    "            afreeca +=1\n",
    "        elif platform == '트위치':\n",
    "            twitch += 1\n",
    "        elif platform == '카카오TV':\n",
    "            kakao += 1\n",
    "    total = i+1\n",
    "        \n",
    "\n",
    "print('male {}, female {}, afreeca {}, twitch {}, kakao {}, total {}'.format(male, female, afreeca, twitch, kakao, total))\n"
   ]
  }
 ]
}