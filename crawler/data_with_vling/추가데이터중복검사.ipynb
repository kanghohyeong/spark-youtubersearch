{
 "metadata": {
  "language_info": {
   "codemirror_mode": {
    "name": "ipython",
    "version": 3
   },
   "file_extension": ".py",
   "mimetype": "text/x-python",
   "name": "python",
   "nbconvert_exporter": "python",
   "pygments_lexer": "ipython3",
   "version": "3.8.5-final"
  },
  "orig_nbformat": 2,
  "kernelspec": {
   "name": "python3",
   "display_name": "Python 3",
   "language": "python"
  }
 },
 "nbformat": 4,
 "nbformat_minor": 2,
 "cells": [
  {
   "source": [
    "# 블링 중복 검사\n"
   ],
   "cell_type": "markdown",
   "metadata": {}
  },
  {
   "cell_type": "code",
   "execution_count": 61,
   "metadata": {},
   "outputs": [],
   "source": [
    "import pandas as pd\n",
    "\n",
    "data_600 = pd.read_csv('youtuber_list.csv', index_col=0)\n",
    "data_1000 = pd.read_csv('vling_top_999.csv', index_col=0)\n",
    "data_1000.drop(['Unnamed: 0.1'], axis=1, inplace=True)"
   ]
  },
  {
   "cell_type": "code",
   "execution_count": 63,
   "metadata": {},
   "outputs": [],
   "source": [
    "new_youtber = []\n",
    "# new_df = data_1000[:]\n",
    "\n",
    "for i, name_1000 in enumerate(data_1000['name']):\n",
    "    # if name_1000 not in data_600['name'].to_list():\n",
    "    #     new_youtber.append(name_1000)\n",
    "    if name_1000 in data_600['name'].to_list():\n",
    "        data_1000 = data_1000.drop(data_1000[data_1000['name']==name_1000].index)\n",
    "        \n",
    "\n",
    "data_1000.reset_index(drop=True, inplace=True)\n",
    "data_1000.to_csv('vling_new_youtuber.csv')\n",
    "\n",
    "   \n",
    "\n"
   ]
  }
 ]
}