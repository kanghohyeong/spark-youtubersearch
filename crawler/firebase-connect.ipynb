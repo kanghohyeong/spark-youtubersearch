{
 "metadata": {
  "language_info": {
   "codemirror_mode": {
    "name": "ipython",
    "version": 3
   },
   "file_extension": ".py",
   "mimetype": "text/x-python",
   "name": "python",
   "nbconvert_exporter": "python",
   "pygments_lexer": "ipython3",
   "version": "3.8.5-final"
  },
  "orig_nbformat": 2,
  "kernelspec": {
   "name": "scrapingenv1",
   "display_name": "scrapingEnv1",
   "language": "python"
  }
 },
 "nbformat": 4,
 "nbformat_minor": 2,
 "cells": [
  {
   "source": [
    "# 파이어베이스 (파이어스토어) 연결"
   ],
   "cell_type": "markdown",
   "metadata": {}
  },
  {
   "cell_type": "code",
   "execution_count": 1,
   "metadata": {},
   "outputs": [],
   "source": [
    "import firebase_admin\n",
    "from firebase_admin import credentials\n",
    "from firebase_admin import firestore\n",
    "\n",
    "# Use the application default credentials - GCP에서 초기화\n",
    "cred = credentials.Certificate('../firebase-apikey.json')\n",
    "default_app = firebase_admin.initialize_app(cred, {\n",
    "    'projectId':'spark-share',\n",
    "})\n",
    "db = firestore.client()\n"
   ]
  },
  {
   "cell_type": "code",
   "execution_count": 2,
   "metadata": {},
   "outputs": [
    {
     "output_type": "stream",
     "name": "stdout",
     "text": [
      "youtube_keywords => {'youtube_title': '기리TV', 'keywords': ['플스5'], 'namuwiki_title': '기리TV'}\n"
     ]
    }
   ],
   "source": [
    "users_ref = db.collection(u'youtuber_keywords')\n",
    "docs = users_ref.stream()\n",
    "\n",
    "for doc in docs:\n",
    "    print(u'{} => {}'.format(doc.id,doc.to_dict()))"
   ]
  },
  {
   "cell_type": "code",
   "execution_count": 14,
   "metadata": {},
   "outputs": [],
   "source": [
    "import json\n",
    "\n",
    "with open('./crawling_result_text/youtuber_keywords.json', 'rt', encoding='utf-8') as f:\n",
    "    json_data = json.load(f)\n",
    "\n",
    "# print(json.dumps(json_data,ensure_ascii=False))\n",
    "\n",
    "\n",
    "doc_ref = db.collection(u'youtuber').document(u'youtube_keywords')\n",
    "\n",
    "for youtuber in json_data['youtubers']:\n",
    "    doc_ref.set({\n",
    "        u'youtube_title':youtuber['youtube_title'],\n",
    "        u'namuwiki_title':youtuber['namuwiki_title'],\n",
    "        u'keywords':youtuber['keywords']\n",
    "    })\n"
   ]
  }
 ]
}