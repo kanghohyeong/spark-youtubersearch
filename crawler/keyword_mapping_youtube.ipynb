{
 "metadata": {
  "language_info": {
   "codemirror_mode": {
    "name": "ipython",
    "version": 3
   },
   "file_extension": ".py",
   "mimetype": "text/x-python",
   "name": "python",
   "nbconvert_exporter": "python",
   "pygments_lexer": "ipython3",
   "version": "3.8.5-final"
  },
  "orig_nbformat": 2,
  "kernelspec": {
   "name": "scrapingenv1",
   "display_name": "scrapingEnv1",
   "language": "python"
  }
 },
 "nbformat": 4,
 "nbformat_minor": 2,
 "cells": [
  {
   "source": [
    "# 키워드 매핑 해보기"
   ],
   "cell_type": "markdown",
   "metadata": {}
  },
  {
   "cell_type": "code",
   "execution_count": 1,
   "metadata": {},
   "outputs": [
    {
     "output_type": "stream",
     "name": "stdout",
     "text": [
      "['Dobby도비.txt', 'EA SPORTS TM FIFA 온라인 4.txt', 'GreatMoonAroma 대월향.txt', 'HOWCOW uuu.txt', 'Landing TV.txt', 'MadLife TV.txt', 'Official Dopa.txt', 'OVTV - 오비티비.txt', 'Project LOL.txt', 'Sun.txt', 'T1.txt', 'THE SHY.txt', 'Toon Tube.txt', 'TV헤이스트.txt', '[꿀템TV] 클템 유튜브.txt', '_헤징.txt', 'ㅇyㅇ.txt', '가재맨.txt', '각폭 YouTube.txt', '감스트GAMST.txt', '개리형.txt', '개인팟.txt', '걸뽀girlbbo.txt', '게임넛 GAMENUT.txt', '고뇌 [Gotube].txt', '고래쉬.txt', '금똥왁왁.txt', '긍정인.txt', '김기열.txt', '김레인.txt', '김성회의 G식백과.txt', '김승희 KIMSEUNGHEE.txt', '김유진 미국변호사YOOJIN.txt', '김재원의 즐거운 세상.txt', '김진솔.txt', '김호랭.txt', '꾸몽.txt', '나는상윤.txt', '나라카일.txt', '나무늘보.txt', '넥슨 YouTube.txt', '눈가루.txt', '눈꽃.txt', '니얼굴윤겔라(geltube).txt', '다주.txt', '닥터준 YouTube.txt', '닥터파이어.txt', '닼발DACKBAL.txt', '더헬TheHell.txt', '동수칸TV.txt', '디스 이즈 샤이.txt', '딕스Dix.txt', '땅우양.txt', '라간유튜브.txt', '라넥갓.txt', '라이언티.txt', '랄로.txt', '랑께님.txt', '레고장인 채소골렘.txt', '롤박사 해도리.txt', '롤큐 LOLQ.txt', '롤큐플러스 LOLQplus.txt', '리버스.txt', '마인의 비하인드.txt', '마일드참치.txt', '만만.txt', '머독방송.txt', '메도우이헌터.txt', '모드로나티 Modronati.txt', '모잉_.txt', '묘송이MyosongE.txt', '무자비.txt', '미라클TV.txt', '민또TV.txt', '바이준 BYJUN.txt', '박나나.txt', '발__젭.txt', '배그TV.txt', '백설양.txt', '별고래_StarWhale.txt', '보물창고.txt', '비콘 TV.txt', '빅윈TV.txt', '뽁구BBokTV.txt', '삐라.txt', '삐부찡.txt', '살타 Salta.txt', '서든어택.txt', '성시훈 유튜브.txt', '소풍왔니.txt', '수찬 Suchan.txt', '순당무.txt', '스간TV.txt', '시간의 숲.txt', '신속.txt', '심즈 아무나AMUNA.txt', '아론 페이지.txt', '악시.txt', '안내메시지.txt', '안산저격수 ANS.txt', '알로직.txt', '앰비션 유튜브 [AMTUBE].txt', '야옹해 바바 Miaow baba.txt', '양아지.txt', '에프람.txt', '엔마유튜브.txt', '오린이.txt', '오버워치Player.txt', '왓구홍길동.txt', '우에하라아리.txt', '우왁굳의 게임방송.txt', '우주하마.txt', '울산큰고래 박성주.txt', '웃소 게임즈.txt', '유소나.txt', '이녕.txt', '이문주.txt', '이아린 Ahrin.txt', '인피쉰.txt', '임준하.txt', '정리전문 [웃키키].txt', '제독신ParkJunHyo.txt', '지덥.txt', '지수소녀 유튜브.txt', '지컨.txt', '진호.txt', '쪼낙 JJONAK.txt', '청원이.txt', '축덕.txt', '카이바군.txt', '캐인유튜브.txt', '코뚱잉.txt', '코시TV.txt', '코지CoZy.txt', '코태(Kotae).txt', '클래시 오브 클랜.txt', '킴스맨KIMSMAN INDUSTRY.txt', '탕카페TV.txt', '테드TV.txt', '테스터훈 TesterHoon.txt', '텔론.txt', '투보.txt', '튜나.txt', '팍플레이Pacplay.txt', '프레이 TV.txt', '프제짱.txt', '플레임TV.txt', '피큐큐.txt', '하얀귤.txt', '하지.txt', '하창봉.txt', '학살 HAKSAL.txt', '한자.txt', '항심.txt', '해물파전TV.txt', '해봄.txt', '허블렛TV.txt', '현솔.txt', '호진.txt', '홍방장.txt', '흑운장TV [BLACKTUBE].txt', '힘쎈너구리.txt']\n635\n162\n"
     ]
    }
   ],
   "source": [
    "# 폴더 내 파일 목록 읽어오기\n",
    "import os\n",
    "\n",
    "path_dir = '.\\youtube_text_data'\n",
    "file_list = os.listdir(path_dir)\n",
    "\n",
    "# keyword_ability = ['실력', '강의','첼린저',' 챌린저','천상계']\n",
    "# keyword_ability = ['강의', '강좌',' 교육']\n",
    "keyword_ability = ['장인']\n",
    "output_youtuber = []\n",
    "\n",
    "for i, file_name in enumerate(file_list):\n",
    "    with open(path_dir+'/'+file_name, 'rt', encoding='utf-8') as f:\n",
    "        file_str = f.read()\n",
    "        for word in keyword_ability:\n",
    "            if file_str.find(word) != -1:\n",
    "                output_youtuber.append(file_name)\n",
    "                break\n",
    "\n",
    "print(output_youtuber)\n",
    "print(len(file_list))\n",
    "print(len(output_youtuber))"
   ]
  }
 ]
}