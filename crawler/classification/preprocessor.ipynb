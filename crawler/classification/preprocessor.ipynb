{
 "cells": [
  {
   "cell_type": "code",
   "execution_count": 1,
   "metadata": {},
   "outputs": [],
   "source": [
    "import os\n",
    "import glob\n",
    "import pandas as pd\n",
    "import numpy as np\n",
    "import matplotlib.pyplot as plt\n",
    "import seaborn as sns\n",
    "import re\n",
    "import json\n",
    "from nltk.corpus import stopwords\n",
    "from konlpy.tag import Hannanum\n",
    "%matplotlib inline"
   ]
  },
  {
   "cell_type": "code",
   "execution_count": 2,
   "metadata": {},
   "outputs": [],
   "source": [
    "DATA_IN_PATH = os.getcwd() + '\\\\crawling_result\\\\youtuber_text'\n",
    "CRAWLER_PATH = os.getcwd() + '\\\\crawling_result'\n",
    "def get_files(filepath):\n",
    "    return glob.glob(os.path.join(filepath,'*.txt'))\n",
    "\n",
    "# 현재 파일이름만 추출\n",
    "#os.path.basename(filename)"
   ]
  },
  {
   "cell_type": "code",
   "execution_count": 3,
   "metadata": {},
   "outputs": [],
   "source": [
    "files = get_files(DATA_IN_PATH)\n",
    "\n",
    "data = []\n",
    "file_names = [os.path.splitext(os.path.basename(x))[0] for x in files] #파일이름만 추출해 리스트에 저장\n",
    "\n",
    "for i in files:\n",
    "    f = open(i, 'rt', encoding='utf-8')\n",
    "    data.append(f.read())\n",
    "    f.close()\n",
    "\n",
    "train_data = pd.Series(data, index = file_names, name='review')"
   ]
  },
  {
   "cell_type": "code",
   "execution_count": 4,
   "metadata": {},
   "outputs": [
    {
     "data": {
      "text/plain": [
       "UC-Zedn7a_RJyb5hUQ-aGZog    서양권 인물의 성씨로 쓰인다.  자세한 내용은 머독(인터넷 방송인) 문서를의 번째 ...\n",
       "UC1dG3vI9FfHnH3YgyeKUz_A    2015년 말부터 시작한 아프리카TV의 리그 오브 레전드 BJ. 챌린저 정글러다. ...\n",
       "UC1MO5uem_t8lRgvIBF9u83w    게임 영상 투고 및 게임 번역을 주로 하는 유튜버.AI설이 나돌 정도로 과묵하고 묵...\n",
       "UC1q4Ihlv_YhLELw-ijE0Diw    마인크래프트를 주로 하는 팀 샐러드 소속의 유튜버이자 트위치 스트리머.마인애플은 마...\n",
       "UC2FDVyrQnjoZCUyk9fmqd9g    2015년 5월 중순[12]부터 본격적으로 방송을 시작한 크로아티아 출신[13] 인...\n",
       "Name: review, dtype: object"
      ]
     },
     "execution_count": 4,
     "metadata": {},
     "output_type": "execute_result"
    }
   ],
   "source": [
    "train_data.head()"
   ]
  },
  {
   "cell_type": "markdown",
   "metadata": {},
   "source": [
    "### 각 데이터 길이"
   ]
  },
  {
   "cell_type": "code",
   "execution_count": 5,
   "metadata": {},
   "outputs": [
    {
     "data": {
      "text/plain": [
       "UC-Zedn7a_RJyb5hUQ-aGZog     2673\n",
       "UC1dG3vI9FfHnH3YgyeKUz_A    19845\n",
       "UC1MO5uem_t8lRgvIBF9u83w     2776\n",
       "UC1q4Ihlv_YhLELw-ijE0Diw    50772\n",
       "UC2FDVyrQnjoZCUyk9fmqd9g    41221\n",
       "Name: review, dtype: int64"
      ]
     },
     "execution_count": 5,
     "metadata": {},
     "output_type": "execute_result"
    }
   ],
   "source": [
    "train_length = train_data.apply(len)\n",
    "train_length.head()"
   ]
  },
  {
   "cell_type": "code",
   "execution_count": 6,
   "metadata": {},
   "outputs": [
    {
     "data": {
      "text/plain": [
       "Text(0, 0.5, 'Number of review')"
      ]
     },
     "execution_count": 6,
     "metadata": {},
     "output_type": "execute_result"
    },
    {
     "data": {
      "image/png": "[encoded data removed]",
      "text/plain": [
       "<Figure size 432x288 with 1 Axes>"
      ]
     },
     "metadata": {
      "needs_background": "light"
     },
     "output_type": "display_data"
    }
   ],
   "source": [
    "plt.hist(train_length, bins=200, alpha=0.5, color='r', label='word')\n",
    "plt.yscale('log', nonpositive='clip')\n",
    "plt.title('Log-Histogram of length of review')\n",
    "plt.xlabel('Length of review')\n",
    "plt.ylabel('Number of review')"
   ]
  },
  {
   "cell_type": "markdown",
   "metadata": {},
   "source": [
    "### 각 데이터의 의 단어 개수"
   ]
  },
  {
   "cell_type": "code",
   "execution_count": 7,
   "metadata": {},
   "outputs": [
    {
     "data": {
      "text/plain": [
       "Text(0, 0.5, 'Number of reviews')"
      ]
     },
     "execution_count": 7,
     "metadata": {},
     "output_type": "execute_result"
    },
    {
     "data": {
      "image/png": "[encoded data removed]",
      "text/plain": [
       "<Figure size 1080x720 with 1 Axes>"
      ]
     },
     "metadata": {
      "needs_background": "light"
     },
     "output_type": "display_data"
    }
   ],
   "source": [
    "train_word_counts = train_data.apply(lambda x: len(x.split(' ')))\n",
    "plt.figure(figsize=(15, 10))\n",
    "plt.hist(train_word_counts, bins=50, facecolor='r', label='train')\n",
    "plt.yscale('log', nonpositive='clip')\n",
    "plt.title('Log-Histogram of word count in review', fontsize=15)\n",
    "plt.legend()\n",
    "plt.xlabel('Number of words' ,fontsize=15)\n",
    "plt.ylabel('Number of reviews' ,fontsize=15)"
   ]
  },
  {
   "cell_type": "code",
   "execution_count": 8,
   "metadata": {},
   "outputs": [
    {
     "name": "stdout",
     "output_type": "stream",
     "text": [
      "물음표가 있는 데이터: 87.00%\n",
      "마침표가 있는 데이터: 100.00%\n",
      "숫자가 있는 데이터: 99.00%\n"
     ]
    }
   ],
   "source": [
    "qmarks = np.mean(train_data.apply(lambda x: '?' in x))\n",
    "fullstop = np.mean(train_data.apply(lambda x: '.' in x))\n",
    "#english = np.mean(train_data.apply(lambda x: 'a'))\n",
    "numbers = np.mean(train_data.apply(lambda x: max([y.isdigit() for y in x])))\n",
    "\n",
    "\n",
    "print('물음표가 있는 데이터: {:.2f}%'.format(qmarks * 100))\n",
    "print('마침표가 있는 데이터: {:.2f}%'.format(fullstop * 100))\n",
    "#print('영어가 있는 데이터: {:.2f}%'.format(english * 100))\n",
    "print('숫자가 있는 데이터: {:.2f}%'.format(numbers * 100))"
   ]
  },
  {
   "cell_type": "markdown",
   "metadata": {},
   "source": [
    "### 불용어"
   ]
  },
  {
   "cell_type": "code",
   "execution_count": 9,
   "metadata": {},
   "outputs": [],
   "source": [
    "stop_words = set(stopwords.words('english'))\n",
    "stop = pd.read_csv(os.getcwd() + '\\\\korean_stopwords.txt', header=None, delimiter='\\t')[0].tolist()\n",
    "stop_words.update(stop)"
   ]
  },
  {
   "cell_type": "markdown",
   "metadata": {},
   "source": [
    "### 데이터 전처리"
   ]
  },
  {
   "cell_type": "code",
   "execution_count": 10,
   "metadata": {},
   "outputs": [],
   "source": [
    "def preprocessing(text, remove_stopwords = False):\n",
    "    t = re.sub(pattern='[^가-힣 a-zA-Z]+', repl='', string=text)\n",
    "    t = t.lower()\n",
    "    words = t.split()\n",
    "    \n",
    "    if remove_stopwords:\n",
    "        words = [w for w in words if not w in stop_words]\n",
    "        \n",
    "    clean_text = ' '.join(words)\n",
    "    return clean_text"
   ]
  },
  {
   "cell_type": "code",
   "execution_count": 11,
   "metadata": {},
   "outputs": [
    {
     "data": {
      "text/plain": [
       "UC-Zedn7a_RJyb5hUQ-aGZog    서양권 인물의 성씨로 쓰인다 자세한 내용은 머독인터넷 방송인 문서를의 번째 문단을의...\n",
       "UC1dG3vI9FfHnH3YgyeKUz_A    말부터 시작한 아프리카tv의 리그 오브 레전드 bj 챌린저 정글러다 콘텐츠로 강의방...\n",
       "UC1MO5uem_t8lRgvIBF9u83w    게임 영상 투고 및 게임 번역을 주로 하는 유튜버ai설이 나돌 정도로 과묵하고 묵묵...\n",
       "UC1q4Ihlv_YhLELw-ijE0Diw    마인크래프트를 주로 하는 팀 샐러드 소속의 유튜버이자 트위치 스트리머마인애플은 마인...\n",
       "UC2FDVyrQnjoZCUyk9fmqd9g    중순부터 본격적으로 방송을 시작한 크로아티아 출신 인터넷 방송인 일명 푸른 눈의 팟...\n",
       "Name: review, dtype: object"
      ]
     },
     "execution_count": 11,
     "metadata": {},
     "output_type": "execute_result"
    }
   ],
   "source": [
    "clean_train_data = []\n",
    "for text in train_data:\n",
    "    clean_train_data.append(preprocessing(text, remove_stopwords=True))\n",
    "    \n",
    "clean_train_data = pd.Series(clean_train_data, index=train_data.index, name='review')\n",
    "clean_train_data.head()"
   ]
  },
  {
   "cell_type": "markdown",
   "metadata": {},
   "source": [
    "### 라벨과 데이터 결합 후 저장"
   ]
  },
  {
   "cell_type": "code",
   "execution_count": 14,
   "metadata": {
    "scrolled": true
   },
   "outputs": [
    {
     "data": {
      "text/html": [
       "<div>\n",
       "<style scoped>\n",
       "    .dataframe tbody tr th:only-of-type {\n",
       "        vertical-align: middle;\n",
       "    }\n",
       "\n",
       "    .dataframe tbody tr th {\n",
       "        vertical-align: top;\n",
       "    }\n",
       "\n",
       "    .dataframe thead th {\n",
       "        text-align: right;\n",
       "    }\n",
       "</style>\n",
       "<table border=\"1\" class=\"dataframe\">\n",
       "  <thead>\n",
       "    <tr style=\"text-align: right;\">\n",
       "      <th></th>\n",
       "      <th>review</th>\n",
       "      <th>/m/025zzc</th>\n",
       "      <th>/m/02ntfj</th>\n",
       "      <th>/m/0b1vjn</th>\n",
       "      <th>/m/02hygl</th>\n",
       "      <th>/m/04q1x3q</th>\n",
       "      <th>/m/01sjng</th>\n",
       "      <th>/m/0403l3g</th>\n",
       "      <th>/m/021bp2</th>\n",
       "      <th>/m/022dc6</th>\n",
       "      <th>/m/03hf_rm</th>\n",
       "    </tr>\n",
       "  </thead>\n",
       "  <tbody>\n",
       "    <tr>\n",
       "      <th>UC-Zedn7a_RJyb5hUQ-aGZog</th>\n",
       "      <td>서양권 인물의 성씨로 쓰인다 자세한 내용은 머독인터넷 방송인 문서를의 번째 문단을의...</td>\n",
       "      <td>True</td>\n",
       "      <td>False</td>\n",
       "      <td>False</td>\n",
       "      <td>False</td>\n",
       "      <td>False</td>\n",
       "      <td>False</td>\n",
       "      <td>True</td>\n",
       "      <td>False</td>\n",
       "      <td>False</td>\n",
       "      <td>False</td>\n",
       "    </tr>\n",
       "    <tr>\n",
       "      <th>UC1dG3vI9FfHnH3YgyeKUz_A</th>\n",
       "      <td>말부터 시작한 아프리카tv의 리그 오브 레전드 bj 챌린저 정글러다 콘텐츠로 강의방...</td>\n",
       "      <td>True</td>\n",
       "      <td>False</td>\n",
       "      <td>False</td>\n",
       "      <td>False</td>\n",
       "      <td>False</td>\n",
       "      <td>False</td>\n",
       "      <td>True</td>\n",
       "      <td>False</td>\n",
       "      <td>False</td>\n",
       "      <td>False</td>\n",
       "    </tr>\n",
       "    <tr>\n",
       "      <th>UC1MO5uem_t8lRgvIBF9u83w</th>\n",
       "      <td>게임 영상 투고 및 게임 번역을 주로 하는 유튜버ai설이 나돌 정도로 과묵하고 묵묵...</td>\n",
       "      <td>True</td>\n",
       "      <td>True</td>\n",
       "      <td>False</td>\n",
       "      <td>False</td>\n",
       "      <td>False</td>\n",
       "      <td>False</td>\n",
       "      <td>True</td>\n",
       "      <td>False</td>\n",
       "      <td>False</td>\n",
       "      <td>False</td>\n",
       "    </tr>\n",
       "    <tr>\n",
       "      <th>UC1q4Ihlv_YhLELw-ijE0Diw</th>\n",
       "      <td>마인크래프트를 주로 하는 팀 샐러드 소속의 유튜버이자 트위치 스트리머마인애플은 마인...</td>\n",
       "      <td>True</td>\n",
       "      <td>False</td>\n",
       "      <td>False</td>\n",
       "      <td>False</td>\n",
       "      <td>False</td>\n",
       "      <td>False</td>\n",
       "      <td>True</td>\n",
       "      <td>False</td>\n",
       "      <td>False</td>\n",
       "      <td>False</td>\n",
       "    </tr>\n",
       "    <tr>\n",
       "      <th>UC2FDVyrQnjoZCUyk9fmqd9g</th>\n",
       "      <td>중순부터 본격적으로 방송을 시작한 크로아티아 출신 인터넷 방송인 일명 푸른 눈의 팟...</td>\n",
       "      <td>True</td>\n",
       "      <td>False</td>\n",
       "      <td>False</td>\n",
       "      <td>False</td>\n",
       "      <td>False</td>\n",
       "      <td>False</td>\n",
       "      <td>False</td>\n",
       "      <td>False</td>\n",
       "      <td>False</td>\n",
       "      <td>False</td>\n",
       "    </tr>\n",
       "    <tr>\n",
       "      <th>...</th>\n",
       "      <td>...</td>\n",
       "      <td>...</td>\n",
       "      <td>...</td>\n",
       "      <td>...</td>\n",
       "      <td>...</td>\n",
       "      <td>...</td>\n",
       "      <td>...</td>\n",
       "      <td>...</td>\n",
       "      <td>...</td>\n",
       "      <td>...</td>\n",
       "      <td>...</td>\n",
       "    </tr>\n",
       "    <tr>\n",
       "      <th>UCZ-UuK86Bk5sGzQQ2cEglJQ</th>\n",
       "      <td>홀라이껌원투 주키니 주키니tv에 오신 여러분들 환영합니다 다람쥐람쥐 람쥐 다람쥐 구...</td>\n",
       "      <td>True</td>\n",
       "      <td>False</td>\n",
       "      <td>True</td>\n",
       "      <td>False</td>\n",
       "      <td>False</td>\n",
       "      <td>False</td>\n",
       "      <td>True</td>\n",
       "      <td>False</td>\n",
       "      <td>False</td>\n",
       "      <td>False</td>\n",
       "    </tr>\n",
       "    <tr>\n",
       "      <th>UCZ0bi2aVJngKLwFTU5g_fLQ</th>\n",
       "      <td>한국의 전직 게임 개발자이자 현직 게임 관련 방송인온게임넷의 테스터 게임 플러스 켠...</td>\n",
       "      <td>True</td>\n",
       "      <td>False</td>\n",
       "      <td>False</td>\n",
       "      <td>False</td>\n",
       "      <td>False</td>\n",
       "      <td>False</td>\n",
       "      <td>True</td>\n",
       "      <td>False</td>\n",
       "      <td>False</td>\n",
       "      <td>False</td>\n",
       "    </tr>\n",
       "    <tr>\n",
       "      <th>UCZcD2iYy55-SkEbv3tcMZrg</th>\n",
       "      <td>샌드박스 네트워크 소속 크리에이터로 과거에는 다양한 게임을 플레이했으나 현재는 주로...</td>\n",
       "      <td>True</td>\n",
       "      <td>False</td>\n",
       "      <td>True</td>\n",
       "      <td>False</td>\n",
       "      <td>False</td>\n",
       "      <td>False</td>\n",
       "      <td>True</td>\n",
       "      <td>False</td>\n",
       "      <td>False</td>\n",
       "      <td>False</td>\n",
       "    </tr>\n",
       "    <tr>\n",
       "      <th>UCzoP3s16B9hP7f_qIc6DReQ</th>\n",
       "      <td>원래는 sandwich 기 기획팀장이었다 녹스의 신전 에서 도티의 방송에 처음 등장...</td>\n",
       "      <td>False</td>\n",
       "      <td>False</td>\n",
       "      <td>False</td>\n",
       "      <td>False</td>\n",
       "      <td>False</td>\n",
       "      <td>False</td>\n",
       "      <td>True</td>\n",
       "      <td>False</td>\n",
       "      <td>False</td>\n",
       "      <td>False</td>\n",
       "    </tr>\n",
       "    <tr>\n",
       "      <th>UCzPLwuw2vJgxtEQk2nM4TVg</th>\n",
       "      <td>안녕하세요 루태입니다트위치 종합 게임 방송 스트리머이자 구독자 약 만명을 보유한 세...</td>\n",
       "      <td>True</td>\n",
       "      <td>False</td>\n",
       "      <td>True</td>\n",
       "      <td>False</td>\n",
       "      <td>False</td>\n",
       "      <td>False</td>\n",
       "      <td>True</td>\n",
       "      <td>False</td>\n",
       "      <td>False</td>\n",
       "      <td>False</td>\n",
       "    </tr>\n",
       "  </tbody>\n",
       "</table>\n",
       "<p>100 rows × 11 columns</p>\n",
       "</div>"
      ],
      "text/plain": [
       "                                                                     review  \\\n",
       "UC-Zedn7a_RJyb5hUQ-aGZog  서양권 인물의 성씨로 쓰인다 자세한 내용은 머독인터넷 방송인 문서를의 번째 문단을의...   \n",
       "UC1dG3vI9FfHnH3YgyeKUz_A  말부터 시작한 아프리카tv의 리그 오브 레전드 bj 챌린저 정글러다 콘텐츠로 강의방...   \n",
       "UC1MO5uem_t8lRgvIBF9u83w  게임 영상 투고 및 게임 번역을 주로 하는 유튜버ai설이 나돌 정도로 과묵하고 묵묵...   \n",
       "UC1q4Ihlv_YhLELw-ijE0Diw  마인크래프트를 주로 하는 팀 샐러드 소속의 유튜버이자 트위치 스트리머마인애플은 마인...   \n",
       "UC2FDVyrQnjoZCUyk9fmqd9g  중순부터 본격적으로 방송을 시작한 크로아티아 출신 인터넷 방송인 일명 푸른 눈의 팟...   \n",
       "...                                                                     ...   \n",
       "UCZ-UuK86Bk5sGzQQ2cEglJQ  홀라이껌원투 주키니 주키니tv에 오신 여러분들 환영합니다 다람쥐람쥐 람쥐 다람쥐 구...   \n",
       "UCZ0bi2aVJngKLwFTU5g_fLQ  한국의 전직 게임 개발자이자 현직 게임 관련 방송인온게임넷의 테스터 게임 플러스 켠...   \n",
       "UCZcD2iYy55-SkEbv3tcMZrg  샌드박스 네트워크 소속 크리에이터로 과거에는 다양한 게임을 플레이했으나 현재는 주로...   \n",
       "UCzoP3s16B9hP7f_qIc6DReQ  원래는 sandwich 기 기획팀장이었다 녹스의 신전 에서 도티의 방송에 처음 등장...   \n",
       "UCzPLwuw2vJgxtEQk2nM4TVg  안녕하세요 루태입니다트위치 종합 게임 방송 스트리머이자 구독자 약 만명을 보유한 세...   \n",
       "\n",
       "                          /m/025zzc  /m/02ntfj  /m/0b1vjn  /m/02hygl  \\\n",
       "UC-Zedn7a_RJyb5hUQ-aGZog       True      False      False      False   \n",
       "UC1dG3vI9FfHnH3YgyeKUz_A       True      False      False      False   \n",
       "UC1MO5uem_t8lRgvIBF9u83w       True       True      False      False   \n",
       "UC1q4Ihlv_YhLELw-ijE0Diw       True      False      False      False   \n",
       "UC2FDVyrQnjoZCUyk9fmqd9g       True      False      False      False   \n",
       "...                             ...        ...        ...        ...   \n",
       "UCZ-UuK86Bk5sGzQQ2cEglJQ       True      False       True      False   \n",
       "UCZ0bi2aVJngKLwFTU5g_fLQ       True      False      False      False   \n",
       "UCZcD2iYy55-SkEbv3tcMZrg       True      False       True      False   \n",
       "UCzoP3s16B9hP7f_qIc6DReQ      False      False      False      False   \n",
       "UCzPLwuw2vJgxtEQk2nM4TVg       True      False       True      False   \n",
       "\n",
       "                          /m/04q1x3q  /m/01sjng  /m/0403l3g  /m/021bp2  \\\n",
       "UC-Zedn7a_RJyb5hUQ-aGZog       False      False        True      False   \n",
       "UC1dG3vI9FfHnH3YgyeKUz_A       False      False        True      False   \n",
       "UC1MO5uem_t8lRgvIBF9u83w       False      False        True      False   \n",
       "UC1q4Ihlv_YhLELw-ijE0Diw       False      False        True      False   \n",
       "UC2FDVyrQnjoZCUyk9fmqd9g       False      False       False      False   \n",
       "...                              ...        ...         ...        ...   \n",
       "UCZ-UuK86Bk5sGzQQ2cEglJQ       False      False        True      False   \n",
       "UCZ0bi2aVJngKLwFTU5g_fLQ       False      False        True      False   \n",
       "UCZcD2iYy55-SkEbv3tcMZrg       False      False        True      False   \n",
       "UCzoP3s16B9hP7f_qIc6DReQ       False      False        True      False   \n",
       "UCzPLwuw2vJgxtEQk2nM4TVg       False      False        True      False   \n",
       "\n",
       "                          /m/022dc6  /m/03hf_rm  \n",
       "UC-Zedn7a_RJyb5hUQ-aGZog      False       False  \n",
       "UC1dG3vI9FfHnH3YgyeKUz_A      False       False  \n",
       "UC1MO5uem_t8lRgvIBF9u83w      False       False  \n",
       "UC1q4Ihlv_YhLELw-ijE0Diw      False       False  \n",
       "UC2FDVyrQnjoZCUyk9fmqd9g      False       False  \n",
       "...                             ...         ...  \n",
       "UCZ-UuK86Bk5sGzQQ2cEglJQ      False       False  \n",
       "UCZ0bi2aVJngKLwFTU5g_fLQ      False       False  \n",
       "UCZcD2iYy55-SkEbv3tcMZrg      False       False  \n",
       "UCzoP3s16B9hP7f_qIc6DReQ      False       False  \n",
       "UCzPLwuw2vJgxtEQk2nM4TVg      False       False  \n",
       "\n",
       "[100 rows x 11 columns]"
      ]
     },
     "execution_count": 14,
     "metadata": {},
     "output_type": "execute_result"
    }
   ],
   "source": [
    "labels = pd.read_csv(CRAWLER_PATH + '\\\\labels.csv',index_col=0, engine='python', encoding = \"cp949\")\n",
    "\n",
    "data = pd.concat([clean_train_data,labels], axis=1)\n",
    "data.to_csv(CRAWLER_PATH + '\\\\train_data.csv', sep=',', na_rep='NaN', encoding='utf-8')\n",
    "data.head()"
   ]
  },
  {
   "cell_type": "code",
   "execution_count": null,
   "metadata": {},
   "outputs": [],
   "source": []
  }
 ],
 "metadata": {
  "kernelspec": {
   "display_name": "Python 3",
   "language": "python",
   "name": "python3"
  },
  "language_info": {
   "codemirror_mode": {
    "name": "ipython",
    "version": 3
   },
   "file_extension": ".py",
   "mimetype": "text/x-python",
   "name": "python",
   "nbconvert_exporter": "python",
   "pygments_lexer": "ipython3",
   "version": "3.8.3"
  }
 },
 "nbformat": 4,
 "nbformat_minor": 4
}
