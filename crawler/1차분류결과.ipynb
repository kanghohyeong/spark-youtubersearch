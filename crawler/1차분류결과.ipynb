{
 "metadata": {
  "language_info": {
   "codemirror_mode": {
    "name": "ipython",
    "version": 3
   },
   "file_extension": ".py",
   "mimetype": "text/x-python",
   "name": "python",
   "nbconvert_exporter": "python",
   "pygments_lexer": "ipython3",
   "version": "3.8.5-final"
  },
  "orig_nbformat": 2,
  "kernelspec": {
   "name": "scrapingenv1",
   "display_name": "scrapingEnv1",
   "language": "python"
  }
 },
 "nbformat": 4,
 "nbformat_minor": 2,
 "cells": [
  {
   "source": [
    "# 1차 분석 결과\n"
   ],
   "cell_type": "markdown",
   "metadata": {}
  },
  {
   "cell_type": "code",
   "execution_count": 19,
   "metadata": {},
   "outputs": [
    {
     "output_type": "stream",
     "name": "stdout",
     "text": [
      "2 clean: Lime Tube[라임튜브]\n47 clean: 돼지저금통\n66 clean: 퀸톨 TV\n82 clean: 진호\n107 clean: 풍월량\n111 clean: 핑맨\n136 clean: 해물파전TV\n138 clean: 범석TV\n151 clean: 미라클TV\n160 clean: 발__젭\n170 clean: YT Apple\n176 clean: 걸뽀girlbbo\n179 clean: 쉐어TV\n293 clean: Mnics에투샤\n307 clean: 훈토이TV\n328 clean: 김유진 미국변호사YOOJIN\n329 clean: 해르시\n367 clean: PAKA\n413 clean: 원창연 WonChangYeon\n435 clean: 정리전문 [웃키키]\n457 clean: AliasMuse\n461 clean: 세드TV\n465 clean: 코시TV\n467 clean: 하얀귤\n485 clean: 허샘\n486 clean: 신원리강아지\n583 clean: 주간신보석\ncount 0\ncount2 27\n"
     ]
    }
   ],
   "source": [
    "import pandas as pd \n",
    "\n",
    "c_result = pd.read_csv('./classification_result/youtube_predict.csv', header=0, encoding='utf-8')\n",
    "count = 0\n",
    "count2 = 0\n",
    "for i, youtuber in enumerate(c_result['name']):\n",
    "    # if c_result['dirty'][i] > 0.5 :\n",
    "    #     print('{} dirty: {}'.format(i, youtuber))\n",
    "    #     count += 1\n",
    "    if c_result['clean'][i] > 0.5 :\n",
    "        print('{} clean: {}'.format(i, youtuber))\n",
    "        count2 += 1\n",
    "\n",
    "print('count {}'.format(count))\n",
    "print('count2 {}'.format(count2))"
   ]
  }
 ]
}