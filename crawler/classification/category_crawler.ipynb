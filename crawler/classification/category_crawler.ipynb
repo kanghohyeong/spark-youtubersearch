{
 "cells": [
  {
   "cell_type": "markdown",
   "metadata": {},
   "source": [
    "### 카테고리 라벨 크롤링\n"
   ]
  },
  {
   "cell_type": "code",
   "execution_count": 17,
   "metadata": {},
   "outputs": [],
   "source": [
    "from googleapiclient.discovery import build\n",
    "import json\n",
    "import os\n",
    "import pandas as pd"
   ]
  },
  {
   "cell_type": "code",
   "execution_count": 18,
   "metadata": {},
   "outputs": [],
   "source": [
    "current_dirt = os.getcwd()\n",
    "apiKey_dirt = current_dirt + '\\\\APIkey.json'\n",
    "channels_dirt = current_dirt + '\\\\channels.csv'\n",
    "\n",
    "target_channels = pd.read_csv(channels_dirt, header=None, encoding='utf-8', squeeze = True)[0].tolist()\n",
    "\n",
    "with open(apiKey_dirt) as json_file:\n",
    "    json_data = json.load(json_file)\n",
    "    youtubeApiKey = json_data[\"APIkey\"]"
   ]
  },
  {
   "cell_type": "code",
   "execution_count": 19,
   "metadata": {},
   "outputs": [],
   "source": [
    "#유튜버 카테고리\n",
    "def get_category(youtube, target_channel):\n",
    "    categories = youtube.channels().list(part='topicDetails', id=target_channel, fields='items(topicDetails(topicIds))').execute()\n",
    "    try:\n",
    "        ret = categories['items'][0]['topicDetails']['topicIds']\n",
    "        return ret\n",
    "    except Exception as e:\n",
    "        print(e)"
   ]
  },
  {
   "cell_type": "code",
   "execution_count": 20,
   "metadata": {},
   "outputs": [],
   "source": [
    "result_dirt = current_dirt + '\\\\crawling_result'"
   ]
  },
  {
   "cell_type": "code",
   "execution_count": 21,
   "metadata": {},
   "outputs": [],
   "source": [
    "data = []\n",
    "\n",
    "rows = []\n",
    "\n",
    "columns = pd.read_csv('game_topics.txt', header=None, sep = \"\\t\", engine='python', encoding = \"cp949\")\n",
    "columns = columns[0].tolist()"
   ]
  },
  {
   "cell_type": "code",
   "execution_count": 22,
   "metadata": {
    "scrolled": true
   },
   "outputs": [
    {
     "name": "stdout",
     "output_type": "stream",
     "text": [
      "get category of UChQ-VMvdGrYZxviQVMTJOHg\n",
      "get category of UCbFzvzDu17eDZ3RIeaLRswQ\n",
      "get category of UCg7rkxrTnIhiHEpXY1ec9NA\n",
      "get category of UCNzcxCN_Hh_lu5RCSFXKgGQ\n",
      "get category of UCSHVH_AWVUc-C8-D8mh8W6A\n",
      "get category of UCYooECrv-fIXlPaDwEIaveA\n",
      "get category of UCta_NRwnsUaew0t3VNxBNyg\n",
      "get category of UCHxKSivB6JLZ1SEMdxd1fAg\n",
      "get category of UCEPuItFWOOJ2o5hTu65NlEg\n",
      "get category of UCpJw2H9KKqwCCGQKRh1Bf2w\n",
      "get category of UCQJuZxeDv2P05YHcC-tIEVQ\n",
      "get category of UCUbOogiD-4PKDqaJfSOTC0g\n",
      "get category of UC2NFRq9s2neD_Ml0tPhNC2Q\n",
      "get category of UCBkyj16n2snkRg1BAzpovXQ\n",
      "get category of UC48NSSfUBsmL0k0wKxSqRkw\n",
      "get category of UCAaLhok91QDrweyuDRsmjqQ\n",
      "get category of UCSOeJWyByeoBHpmrm0NnlLw\n",
      "get category of UC3DYSay178fMMPaf3zHwECA\n",
      "get category of UCtCnnCUn9IDDQRU9_04JD3g\n",
      "get category of UCEcuyrAqhRVUmRdOd6FGKSw\n",
      "get category of UC5pbeFWTPAUdKu65kBROsBg\n",
      "get category of UC8CIM3d3zDYMk-3T5aAz0yw\n",
      "get category of UCl4nBkmJCDs6RR8uWldAqLA\n",
      "get category of UC7uKMg7lPdCp4Nm1tLesihQ\n",
      "get category of UCc0_4m8a-YtBHEcYwjEnbxw\n",
      "get category of UCHdsNK3SJi7tI85f4XPy7zA\n",
      "get category of UCN5oT4zGJX-_H6pE5isAEeg\n",
      "get category of UCZcD2iYy55-SkEbv3tcMZrg\n",
      "get category of UC-Zedn7a_RJyb5hUQ-aGZog\n",
      "get category of UCeG0ONJtjwE20ThR5iSYdsA\n",
      "get category of UCUj6rrhMTR9pipbAWBAMvUQ\n",
      "get category of UCDBAVzfX3yZ1hah0FHnOoaA\n",
      "get category of UC31ypOxFsuU3Q0OFpQzcQ3g\n",
      "get category of UCRpdlPk671uOMiBtf5HtB3Q\n",
      "get category of UCPI40-XQA9-GBGj2k8PPqfg\n",
      "get category of UCEVnzHZkNMG-XFUGomZ24cg\n",
      "get category of UCeivPjjK9-cdj8-gw4-7JRg\n",
      "get category of UCJprx3bX49vNl6Bcw01Cwfg\n",
      "get category of UCIVFv8AiQLqM9oLHTixrNYw\n",
      "get category of UC7nVGqibbYgrzh733LDffNQ\n",
      "get category of UCLuDznROytXtnMSDwo5aGJQ\n",
      "get category of UCdmPH-DTjL52x5K3lRvHYQw\n",
      "get category of UCLJs55bZWMsCBPekt3vssoQ\n",
      "get category of UC1dG3vI9FfHnH3YgyeKUz_A\n",
      "get category of UCsR07Y3qMhf_oKxit4xLoHg\n",
      "get category of UCMOOio1GZ50OeJT58DGBQCA\n",
      "get category of UCHsK9gl5aU0F3umrU4Zn_sA\n",
      "get category of UCxeWKVovE_mKNRCwAlpL87A\n",
      "get category of UCiwOunGuqfKjcLIBsteAAJQ\n",
      "get category of UCw-JzmPsjRcbzJLncr4pIIA\n",
      "get category of UCJDEss5wA1ddrCBC40giO8A\n",
      "get category of UCylzl5EMsHKCMeUe2TLKLKA\n",
      "get category of UCt15X5eHLwyP8PpNtQTkuDQ\n",
      "get category of UCw1DsweY9b2AKGjV4kGJP1A\n",
      "get category of UCWL_9MaaMy8ObTDPmVHemjA\n",
      "get category of UCAJAJ9bAvfjFLRrsqeumJIA\n",
      "get category of UCZ0bi2aVJngKLwFTU5g_fLQ\n",
      "get category of UCSzHok6X5qXEO7cjvVnE62g\n",
      "get category of UCnQRkIhRmXrxGrK4-8n-lVw\n",
      "get category of UCL_IvtOZo6sONpiydbzzHpA\n",
      "get category of UCKDkGnyeib7mcU7LdD3x0jQ\n",
      "get category of UCXZaTqDKXHmNfKZ1ywhxe0w\n",
      "get category of UCgjaQlejpAnIu0q-xtVfTEw\n",
      "get category of UCbLispC1ydHSC_69kjZI6hw\n",
      "get category of UCb5NLtXAsTBrmaZVhyFa-Wg\n",
      "get category of UCugNO83_V7xZLzCsjpABGeg\n",
      "get category of UCZ-UuK86Bk5sGzQQ2cEglJQ\n",
      "get category of UCHsNxA14lzqnrm0mW7GQIXA\n",
      "get category of UCAJ-meoCh1TrPZ7La3UpPrw\n",
      "get category of UCzoP3s16B9hP7f_qIc6DReQ\n",
      "get category of UCldBBBC3KowWN7ScJRQlZyg\n",
      "get category of UCl402YYy7RcH7PBI3npmGPQ\n",
      "get category of UCzPLwuw2vJgxtEQk2nM4TVg\n",
      "get category of UCa-IaOPw5r1oQ4vuf3QjEPA\n",
      "get category of UCVZI7eLie2UlZph6aiBRNrw\n",
      "get category of UCBvkQFBskQR9NeOoDYR8ckA\n",
      "get category of UCHqvLC2ilL2M4_SpoFiWtuQ\n",
      "get category of UC1MO5uem_t8lRgvIBF9u83w\n",
      "get category of UCp77saYy1V_F3dld7GfJrcg\n",
      "get category of UC1q4Ihlv_YhLELw-ijE0Diw\n",
      "get category of UCCA8UWUW80iHqK9ymdjRwPg\n",
      "get category of UCfnMSbA2Bfi4cnuuN2pa0HA\n",
      "get category of UCj1dw4G9v09OLXIxiL_VUEA\n",
      "get category of UCyHvSKT_bLDYpkv1JjjsLAg\n",
      "get category of UCUsrcN6Vtqr05ibbow_rnBw\n",
      "get category of UConOmISJY0oZHRhWGyvdQ2A\n",
      "get category of UCrLxiPkgUEEnItqryMFVG2g\n",
      "get category of UCM9m5BHwm-lU7tK07co3ClA\n",
      "get category of UCC4QcwDnXG5poPg__kD4YmQ\n",
      "get category of UCTSaxXnhUcrhv984bVpDr6Q\n",
      "get category of UCcdlIcleb4oIK6of1ugSJ7w\n",
      "get category of UCIhfL5TX-FODmWcX2k1uWHg\n",
      "get category of UCnxOGZwppMFnMYS-eUJtwXw\n",
      "get category of UCtJpqaQ0XAmX5uYZ48crOdQ\n",
      "get category of UCR0aLp4aIvxS07g6rGWZr_g\n",
      "get category of UCt51IEo3ZxxOysVAG_ylR6w\n",
      "get category of UCUR5w0E-jQTOO8Q0FZ4ilYQ\n",
      "get category of UCHYMpkGhNIr8A0m2H3lIjUA\n",
      "get category of UC2FDVyrQnjoZCUyk9fmqd9g\n",
      "get category of UCO5bdxKgKczSpjFbfsGykmA\n"
     ]
    }
   ],
   "source": [
    "youtube = build('youtube','v3',developerKey=youtubeApiKey)\n",
    "for i in target_channels:\n",
    "    print(\"get category of\", i)\n",
    "    categories = get_category(youtube, i)\n",
    "    \n",
    "    rows.append(i)\n",
    "    data.append([x in categories for x in columns])\n",
    "\n",
    "df = pd.DataFrame(data, index=rows, columns=columns)"
   ]
  },
  {
   "cell_type": "code",
   "execution_count": 23,
   "metadata": {},
   "outputs": [],
   "source": [
    "df.to_csv(result_dirt + '\\\\labels.csv', sep=',', na_rep='NaN')"
   ]
  },
  {
   "cell_type": "code",
   "execution_count": null,
   "metadata": {},
   "outputs": [],
   "source": []
  }
 ],
 "metadata": {
  "kernelspec": {
   "display_name": "Python 3",
   "language": "python",
   "name": "python3"
  },
  "language_info": {
   "codemirror_mode": {
    "name": "ipython",
    "version": 3
   },
   "file_extension": ".py",
   "mimetype": "text/x-python",
   "name": "python",
   "nbconvert_exporter": "python",
   "pygments_lexer": "ipython3",
   "version": "3.8.3"
  }
 },
 "nbformat": 4,
 "nbformat_minor": 4
}
